{
  "nbformat": 4,
  "nbformat_minor": 0,
  "metadata": {
    "colab": {
      "name": "Copy of SendNReceiveMoney.ipynb",
      "provenance": [],
      "collapsed_sections": [],
      "authorship_tag": "ABX9TyO5CMYYgZd7oQGHLhblt0wI",
      "include_colab_link": true
    },
    "kernelspec": {
      "name": "python3",
      "display_name": "Python 3"
    },
    "language_info": {
      "name": "python"
    }
  },
  "cells": [
    {
      "cell_type": "markdown",
      "metadata": {
        "id": "view-in-github",
        "colab_type": "text"
      },
      "source": [
        "<a href=\"https://colab.research.google.com/github/renz271/colab/blob/main/SendNReceiveMoney.ipynb\" target=\"_parent\"><img src=\"https://colab.research.google.com/assets/colab-badge.svg\" alt=\"Open In Colab\"/></a>"
      ]
    },
    {
      "cell_type": "code",
      "execution_count": null,
      "metadata": {
        "colab": {
          "base_uri": "https://localhost:8080/"
        },
        "id": "OXLk-afM3YKF",
        "outputId": "1f20007c-8aa9-44d1-ac8a-5fc1e4121460"
      },
      "outputs": [
        {
          "output_type": "stream",
          "name": "stdout",
          "text": [
            "9a6c0d6315c5281511eb44b013ccbed49ecfafb3922e71541b19b868889373075a4725a9971eb94f3212bc9f18c161f62b8c40577aeb9bf4ec791f4043ea8bfad77bddb181b72064362e7caf227b2a8f5b08f74ab8bd83400e3f4f2d6f77c2557649280d73cf188fd8e502d19a04ec21416c1a4ba1bde12b827e94a3a380fba6\n"
          ]
        }
      ],
      "source": [
        "import collections \n",
        "import datetime \n",
        "import binascii\n",
        "#!pip install pycryptodome \n",
        "import Crypto\n",
        "from Crypto.PublicKey import RSA \n",
        "from Crypto import Random\n",
        "from Crypto.Hash import SHA\n",
        "from Crypto.Signature import PKCS1_v1_5\n",
        "class Client:\n",
        "  def __init__(self):\n",
        "    random = Crypto.Random.new().read \n",
        "    self._private_key = RSA.generate(1024, random) \n",
        "    self._public_key = self._private_key.publickey() \n",
        "    self._signer = PKCS1_v1_5.new(self._private_key)\n",
        "  @property\n",
        "  def identity(self):\n",
        "    return binascii.hexlify(self._public_key.exportKey(format='DER')).decode('ascii')\n",
        "class Transaction:\n",
        "  def __init__(self, sender, recipient, value): \n",
        "    self.sender = sender\n",
        "    self.recipient = recipient \n",
        "    self.value = value\n",
        "    self.time = datetime.datetime.now()\n",
        "  def to_dict(self):\n",
        "    if self.sender == \"Genesis\":\n",
        "      identity = \"Genesis\" \n",
        "    else:\n",
        "      identity = self.sender.identity\n",
        "      return collections.OrderedDict({ 'sender': identity,'recipient': self.recipient, 'value': self.value,'time' : self.time})\n",
        "  def sign_transaction(self):\n",
        "    private_key = self.sender._private_key \n",
        "    signer = PKCS1_v1_5.new(private_key)\n",
        "    h = SHA.new(str(self.to_dict()).encode('utf8')) \n",
        "    return binascii.hexlify(signer.sign(h)).decode('ascii')\n",
        "Raja = Client() \n",
        "Rani = Client()\n",
        "t = Transaction(Raja, Rani.identity, 5.0)\n",
        "signature = t.sign_transaction() \n",
        "print (signature)"
      ]
    },
    {
      "cell_type": "code",
      "source": [
        "!pip install pycryptodome"
      ],
      "metadata": {
        "colab": {
          "base_uri": "https://localhost:8080/"
        },
        "id": "lGsiBX9Y4fGX",
        "outputId": "7c1f49f1-8bce-4551-9116-0951b8d4c267"
      },
      "execution_count": null,
      "outputs": [
        {
          "output_type": "stream",
          "name": "stdout",
          "text": [
            "Looking in indexes: https://pypi.org/simple, https://us-python.pkg.dev/colab-wheels/public/simple/\n",
            "Collecting pycryptodome\n",
            "  Downloading pycryptodome-3.14.1-cp35-abi3-manylinux2010_x86_64.whl (2.0 MB)\n",
            "\u001b[K     |████████████████████████████████| 2.0 MB 27.1 MB/s \n",
            "\u001b[?25hInstalling collected packages: pycryptodome\n",
            "Successfully installed pycryptodome-3.14.1\n"
          ]
        }
      ]
    }
  ]
}