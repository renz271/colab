{
  "nbformat": 4,
  "nbformat_minor": 0,
  "metadata": {
    "colab": {
      "name": "GenesisBlock.ipynb",
      "provenance": [],
      "mount_file_id": "1VA89T-Jk9Yr8_MLaNYfjU3pshv39aJ59",
      "authorship_tag": "ABX9TyP+GsN9noDfeGYJ4qkUhZSY",
      "include_colab_link": true
    },
    "kernelspec": {
      "name": "python3",
      "display_name": "Python 3"
    },
    "language_info": {
      "name": "python"
    }
  },
  "cells": [
    {
      "cell_type": "markdown",
      "metadata": {
        "id": "view-in-github",
        "colab_type": "text"
      },
      "source": [
        "<a href=\"https://colab.research.google.com/github/renz271/colab/blob/main/GenesisBlock.ipynb\" target=\"_parent\"><img src=\"https://colab.research.google.com/assets/colab-badge.svg\" alt=\"Open In Colab\"/></a>"
      ]
    },
    {
      "cell_type": "code",
      "execution_count": null,
      "metadata": {
        "colab": {
          "base_uri": "https://localhost:8080/"
        },
        "id": "YfoF7XtZA-EK",
        "outputId": "a46e82db-aaae-439c-d68b-620297cc84ac"
      },
      "outputs": [
        {
          "output_type": "stream",
          "name": "stdout",
          "text": [
            "Looking in indexes: https://pypi.org/simple, https://us-python.pkg.dev/colab-wheels/public/simple/\n",
            "Collecting pycryptodome\n",
            "  Downloading pycryptodome-3.14.1-cp35-abi3-manylinux2010_x86_64.whl (2.0 MB)\n",
            "\u001b[K     |████████████████████████████████| 2.0 MB 5.8 MB/s \n",
            "\u001b[?25hInstalling collected packages: pycryptodome\n",
            "Successfully installed pycryptodome-3.14.1\n"
          ]
        }
      ],
      "source": [
        "!pip install pycryptodome"
      ]
    },
    {
      "cell_type": "code",
      "source": [
        "import collections \n",
        "import datetime \n",
        "import binascii\n",
        "#!pip install pycryptodome \n",
        "import Crypto\n",
        "from Crypto.PublicKey import RSA \n",
        "from Crypto import Random\n",
        "from Crypto.Hash import SHA\n",
        "from Crypto.Signature import PKCS1_v1_5\n",
        "import hashlib\n",
        "class Client:\n",
        "  def __init__(self):\n",
        "    random = Crypto.Random.new().read \n",
        "    self._private_key = RSA.generate(1024, random) \n",
        "    self._public_key = self._private_key.publickey() \n",
        "    self._signer = PKCS1_v1_5.new(self._private_key)\n",
        "  @property\n",
        "  def identity(self):\n",
        "    return binascii.hexlify(self._public_key.exportKey(format='DER')).decode('ascii')\n",
        "class Transaction:\n",
        "  def __init__(self, sender, recipient, value): \n",
        "    self.sender = sender\n",
        "    self.recipient = recipient \n",
        "    self.value = value\n",
        "    self.time = datetime.datetime.now()\n",
        "  def to_dict(self):\n",
        "    if self.sender == \"Genesis\":\n",
        "      identity = \"Genesis\" \n",
        "    else:\n",
        "      identity = self.sender.identity\n",
        "      return collections.OrderedDict({ 'sender': identity,'recipient': self.recipient, 'value': self.value,'time' : self.time})\n",
        "  def sign_transaction(self):\n",
        "    private_key = self.sender._private_key \n",
        "    signer = PKCS1_v1_5.new(private_key)\n",
        "    h = SHA.new(str(self.to_dict()).encode('utf8'))\n",
        "    return binascii.hexlify(signer.sign(h)).decode('ascii') \n",
        "  def sha256(message):\n",
        "    return hashlib.sha256(message.encode('ascii')).hexdigest()\n",
        "  def mine(message, difficulty=1):\n",
        "    assert difficulty >= 1 \n",
        "    prefix = '1' * difficulty \n",
        "    for i in range(1000):\n",
        "      digest = sha256(str(hash(message)) + str(i)) \n",
        "      if digest.startswith(prefix):\n",
        "        print (\"after \" + str(i) + \" iterations found nonce: \"+ digest) \n",
        "      return digest\n",
        "class Block:\n",
        "  def __init__(self): \n",
        "    self.verified_transactions = [] \n",
        "    self.previous_block_hash = \"\" \n",
        "    self.Nonce = \"\"\n",
        "    last_block_hash = \"\"\n",
        "  def display_transaction(transaction):\n",
        "    #for transaction in transactions:\n",
        "    dict = transaction.to_dict()\n",
        "    print (' ---- ')\n",
        "    print (\"sender: \" + dict['sender']) \n",
        "    print (\"recipient: \" + dict['recipient']) \n",
        "    print (' ---- ')\n",
        "    print (\"value: \" + str(dict['value']))\n",
        "    print (' ---- ')\n",
        "    print (\"time: \" + str(dict['time']))\n",
        "    print (' ---- ')\n",
        "    TPCoins = []\n",
        "  def dump_blockchain (self):\n",
        "    print (\"Number of blocks in the chain: \" + str(len (self))) \n",
        "    for x in range (len(TPCoins)):\n",
        "      block_temp = TPCoins[x] \n",
        "      print (\"block # \" + str(x))\n",
        "      for transaction in block_temp.verified_transactions: \n",
        "        display_transaction (transaction)\n",
        "        print (' ')\n",
        "        print ('=====================================')\n",
        "\n",
        "First = Client() \n",
        "t0 = Transaction (\n",
        "\"Genesis\", First.identity, 500.0\n",
        ")\n",
        "block0 = Block() \n",
        "block0.previous_block_hash = None \n",
        "Nonce = None \n",
        "block0.verified_transactions.append (t0) \n",
        "digest = hash (block0)\n",
        "last_block_hash = digest \n",
        "TPCoins = []\n",
        "def dump_blockchain (self):\n",
        "  print (\"Number of blocks in the chain: \" + str(len (self))) \n",
        "  for x in range (len(TPCoins)):\n",
        "    block_temp = TPCoins[x] \n",
        "    print (\"block # \" + str(x))\n",
        "def dump_blockchain (self):\n",
        "  print (\"Number of blocks in the chain: \" + str(len (self))) \n",
        "  for x in range (len(TPCoins)):\n",
        "    block_temp = TPCoins[x] \n",
        "    print (\"block # \" + str(x))\n",
        "  for transaction in block_temp.verified_transactions: \n",
        "    block0.display_transaction (transaction)\n",
        "    print (' ')\n",
        "  print ('=====================================')\n",
        "TPCoins.append (block0)   \n",
        "dump_blockchain(TPCoins)"
      ],
      "metadata": {
        "colab": {
          "base_uri": "https://localhost:8080/",
          "height": 356
        },
        "id": "6F65rtsrBIKD",
        "outputId": "f6054c6b-f91c-4d25-bffd-9347f152fc8c"
      },
      "execution_count": null,
      "outputs": [
        {
          "output_type": "stream",
          "name": "stdout",
          "text": [
            "Number of blocks in the chain: 1\n",
            "block # 0\n"
          ]
        },
        {
          "output_type": "error",
          "ename": "TypeError",
          "evalue": "ignored",
          "traceback": [
            "\u001b[0;31m---------------------------------------------------------------------------\u001b[0m",
            "\u001b[0;31mTypeError\u001b[0m                                 Traceback (most recent call last)",
            "\u001b[0;32m<ipython-input-7-48001bb672c3>\u001b[0m in \u001b[0;36m<module>\u001b[0;34m()\u001b[0m\n\u001b[1;32m     99\u001b[0m   \u001b[0mprint\u001b[0m \u001b[0;34m(\u001b[0m\u001b[0;34m'====================================='\u001b[0m\u001b[0;34m)\u001b[0m\u001b[0;34m\u001b[0m\u001b[0;34m\u001b[0m\u001b[0m\n\u001b[1;32m    100\u001b[0m \u001b[0mTPCoins\u001b[0m\u001b[0;34m.\u001b[0m\u001b[0mappend\u001b[0m \u001b[0;34m(\u001b[0m\u001b[0mblock0\u001b[0m\u001b[0;34m)\u001b[0m\u001b[0;34m\u001b[0m\u001b[0;34m\u001b[0m\u001b[0m\n\u001b[0;32m--> 101\u001b[0;31m \u001b[0mdump_blockchain\u001b[0m\u001b[0;34m(\u001b[0m\u001b[0mTPCoins\u001b[0m\u001b[0;34m)\u001b[0m\u001b[0;34m\u001b[0m\u001b[0;34m\u001b[0m\u001b[0m\n\u001b[0m",
            "\u001b[0;32m<ipython-input-7-48001bb672c3>\u001b[0m in \u001b[0;36mdump_blockchain\u001b[0;34m(self)\u001b[0m\n\u001b[1;32m     95\u001b[0m     \u001b[0mprint\u001b[0m \u001b[0;34m(\u001b[0m\u001b[0;34m\"block # \"\u001b[0m \u001b[0;34m+\u001b[0m \u001b[0mstr\u001b[0m\u001b[0;34m(\u001b[0m\u001b[0mx\u001b[0m\u001b[0;34m)\u001b[0m\u001b[0;34m)\u001b[0m\u001b[0;34m\u001b[0m\u001b[0;34m\u001b[0m\u001b[0m\n\u001b[1;32m     96\u001b[0m   \u001b[0;32mfor\u001b[0m \u001b[0mtransaction\u001b[0m \u001b[0;32min\u001b[0m \u001b[0mblock_temp\u001b[0m\u001b[0;34m.\u001b[0m\u001b[0mverified_transactions\u001b[0m\u001b[0;34m:\u001b[0m\u001b[0;34m\u001b[0m\u001b[0;34m\u001b[0m\u001b[0m\n\u001b[0;32m---> 97\u001b[0;31m     \u001b[0mblock0\u001b[0m\u001b[0;34m.\u001b[0m\u001b[0mdisplay_transaction\u001b[0m \u001b[0;34m(\u001b[0m\u001b[0mtransaction\u001b[0m\u001b[0;34m)\u001b[0m\u001b[0;34m\u001b[0m\u001b[0;34m\u001b[0m\u001b[0m\n\u001b[0m\u001b[1;32m     98\u001b[0m     \u001b[0mprint\u001b[0m \u001b[0;34m(\u001b[0m\u001b[0;34m' '\u001b[0m\u001b[0;34m)\u001b[0m\u001b[0;34m\u001b[0m\u001b[0;34m\u001b[0m\u001b[0m\n\u001b[1;32m     99\u001b[0m   \u001b[0mprint\u001b[0m \u001b[0;34m(\u001b[0m\u001b[0;34m'====================================='\u001b[0m\u001b[0;34m)\u001b[0m\u001b[0;34m\u001b[0m\u001b[0;34m\u001b[0m\u001b[0m\n",
            "\u001b[0;31mTypeError\u001b[0m: display_transaction() takes 1 positional argument but 2 were given"
          ]
        }
      ]
    }
  ]
}