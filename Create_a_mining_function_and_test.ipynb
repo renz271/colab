{
  "nbformat": 4,
  "nbformat_minor": 0,
  "metadata": {
    "colab": {
      "name": "Create a mining function and test.ipynb",
      "provenance": [],
      "collapsed_sections": [],
      "authorship_tag": "ABX9TyNnxElSL1DqceAl1vwervt7",
      "include_colab_link": true
    },
    "kernelspec": {
      "name": "python3",
      "display_name": "Python 3"
    },
    "language_info": {
      "name": "python"
    }
  },
  "cells": [
    {
      "cell_type": "markdown",
      "metadata": {
        "id": "view-in-github",
        "colab_type": "text"
      },
      "source": [
        "<a href=\"https://colab.research.google.com/github/renz271/colab/blob/main/Create_a_mining_function_and_test.ipynb\" target=\"_parent\"><img src=\"https://colab.research.google.com/assets/colab-badge.svg\" alt=\"Open In Colab\"/></a>"
      ]
    },
    {
      "cell_type": "code",
      "execution_count": 2,
      "metadata": {
        "colab": {
          "base_uri": "https://localhost:8080/",
          "height": 36
        },
        "id": "6SlulBO_DNpH",
        "outputId": "4cc31eb3-8d33-408d-a29f-22ef79b0decd"
      },
      "outputs": [
        {
          "output_type": "execute_result",
          "data": {
            "text/plain": [
              "'17a8a3adcbf91aa9d21789294ee69054c6ce93cd6c4c4d6b6fdcacfca819f274'"
            ],
            "application/vnd.google.colaboratory.intrinsic+json": {
              "type": "string"
            }
          },
          "metadata": {},
          "execution_count": 2
        }
      ],
      "source": [
        "import hashlib\n",
        "def sha256(message):\n",
        "  return hashlib.sha256(message.encode('ascii')).hexdigest()\n",
        "def mine(message, difficulty=1):\n",
        "  assert difficulty >= 1 \n",
        "  prefix = '1' * difficulty \n",
        "  for i in range(1000):\n",
        "    digest = sha256(str(hash(message)) + str(i)) \n",
        "    if digest.startswith(prefix):\n",
        "      print (\"after \" + str(i) + \" iterations found nonce: \"+ digest)\n",
        "    return digest\n",
        "mine (\"test message\", 2)"
      ]
    }
  ]
}