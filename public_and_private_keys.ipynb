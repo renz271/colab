{
  "nbformat": 4,
  "nbformat_minor": 0,
  "metadata": {
    "colab": {
      "name": "public and private keys.ipynb",
      "provenance": [],
      "collapsed_sections": [],
      "authorship_tag": "ABX9TyOc1ARJIE32moLxGYqaXSRb",
      "include_colab_link": true
    },
    "kernelspec": {
      "name": "python3",
      "display_name": "Python 3"
    },
    "language_info": {
      "name": "python"
    }
  },
  "cells": [
    {
      "cell_type": "markdown",
      "metadata": {
        "id": "view-in-github",
        "colab_type": "text"
      },
      "source": [
        "<a href=\"https://colab.research.google.com/github/renz271/colab/blob/main/public_and_private_keys.ipynb\" target=\"_parent\"><img src=\"https://colab.research.google.com/assets/colab-badge.svg\" alt=\"Open In Colab\"/></a>"
      ]
    },
    {
      "cell_type": "code",
      "execution_count": null,
      "metadata": {
        "colab": {
          "base_uri": "https://localhost:8080/"
        },
        "id": "3vm7az5Dzjrz",
        "outputId": "ec300688-a4ef-476d-de7c-8d35e3a18916"
      },
      "outputs": [
        {
          "output_type": "stream",
          "name": "stdout",
          "text": [
            "Looking in indexes: https://pypi.org/simple, https://us-python.pkg.dev/colab-wheels/public/simple/\n",
            "Collecting pycryptodome\n",
            "  Downloading pycryptodome-3.14.1-cp35-abi3-manylinux2010_x86_64.whl (2.0 MB)\n",
            "\u001b[K     |████████████████████████████████| 2.0 MB 27.2 MB/s \n",
            "\u001b[?25hInstalling collected packages: pycryptodome\n",
            "Successfully installed pycryptodome-3.14.1\n"
          ]
        }
      ],
      "source": [
        "!pip install pycryptodome"
      ]
    },
    {
      "cell_type": "code",
      "source": [
        "import binascii\n",
        "import Crypto\n",
        "from Crypto.PublicKey import RSA #provides facilities for generating new RSA keys \n",
        "from Crypto import Random\n",
        "from Crypto.Hash import SHA\n",
        "from Crypto.Signature import PKCS1_v1_5 #The full code for the Client class\n",
        "class Client:\n",
        "  def __init__(self):\n",
        "    random = Crypto.Random.new().read\n",
        "    #we create private and public keys and store their values in the instance variable. \n",
        "    self._private_key = RSA.generate(1024, random)\n",
        "    self._public_key = self._private_key.publickey()\n",
        "    self._signer = PKCS1_v1_5.new(self._private_key)\n",
        "    #The generated public key will be used as the client’s identity.that returns the HEX representation of the public key\n",
        "  \n",
        "  @property\n",
        "  def identity(self):\n",
        "      return binascii.hexlify(self._public_key.exportKey(format='DER')).decode('ascii') \n",
        "      \n",
        "Demo = Client()\n",
        "print(Demo.identity)"
      ],
      "metadata": {
        "colab": {
          "base_uri": "https://localhost:8080/"
        },
        "id": "ljNlf2h5zwPR",
        "outputId": "5eebd585-9ccf-49b8-e57f-9e92cad06491"
      },
      "execution_count": null,
      "outputs": [
        {
          "output_type": "stream",
          "name": "stdout",
          "text": [
            "30819f300d06092a864886f70d010101050003818d0030818902818100e57f2713690f5228fd41d08cf10524967fd3482afc78d63dbc96dd75726754e8d47f070c03f551c091fa4b10bfa904337ff22d1d4129ebb3f38f85254d08b3de2f6ce4d56eda6aa2092f5ede211da568bcf6199d7e600b63876ba088862b32c2a929c0392131a7f0f87414b1010c8f6f17f033573c8d5fb423f1f23813ba7afb0203010001\n"
          ]
        }
      ]
    }
  ]
}